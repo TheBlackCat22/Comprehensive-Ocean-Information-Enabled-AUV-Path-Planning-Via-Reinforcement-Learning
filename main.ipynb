{
 "cells": [
  {
   "cell_type": "code",
   "execution_count": 1,
   "metadata": {},
   "outputs": [],
   "source": [
    "import Windfield_Env\n",
    "import numpy as np"
   ]
  },
  {
   "cell_type": "code",
   "execution_count": 2,
   "metadata": {},
   "outputs": [],
   "source": [
    "a=Windfield_Env.WindField(size=7)"
   ]
  },
  {
   "cell_type": "code",
   "execution_count": 3,
   "metadata": {},
   "outputs": [
    {
     "data": {
      "image/png": "[encoded data removed]",
      "text/plain": [
       "<Figure size 432x288 with 1 Axes>"
      ]
     },
     "metadata": {
      "needs_background": "light"
     },
     "output_type": "display_data"
    }
   ],
   "source": [
    "a.render()"
   ]
  },
  {
   "cell_type": "code",
   "execution_count": 4,
   "metadata": {},
   "outputs": [],
   "source": [
    "WindField=a.generate_uniform_windfield()"
   ]
  },
  {
   "cell_type": "code",
   "execution_count": 5,
   "metadata": {},
   "outputs": [
    {
     "data": {
      "image/png": "[encoded data removed]",
      "text/plain": [
       "<Figure size 432x288 with 1 Axes>"
      ]
     },
     "metadata": {
      "needs_background": "light"
     },
     "output_type": "display_data"
    }
   ],
   "source": [
    "a.plot_windfield(WindField)"
   ]
  },
  {
   "cell_type": "code",
   "execution_count": 83,
   "metadata": {},
   "outputs": [
    {
     "name": "stderr",
     "output_type": "stream",
     "text": [
      "C:\\Users\\Sushi\\AppData\\Local\\Temp\\ipykernel_12696\\534989722.py:1: VisibleDeprecationWarning: Creating an ndarray from ragged nested sequences (which is a list-or-tuple of lists-or-tuples-or ndarrays with different lengths or shapes) is deprecated. If you meant to do this, you must specify 'dtype=object' when creating the ndarray.\n",
      "  np.array(a.transition_prob(state=(0,0,3),action=\"S\",wind_field=WindField))[:,1]\n"
     ]
    },
    {
     "data": {
      "text/plain": [
       "array([0.0006667376563887421, 0.013115752292080344, 0.10068307491505527,\n",
       "       0.3050697404400642, 0.3677118612585163, 0.17656798819921526,\n",
       "       0.033592312388916294, 0.002506122370888313], dtype=object)"
      ]
     },
     "execution_count": 83,
     "metadata": {},
     "output_type": "execute_result"
    }
   ],
   "source": [
    "np.array(a.transition_prob(state=(0,0,3),action=\"S\",wind_field=WindField))[:,1]"
   ]
  },
  {
   "cell_type": "code",
   "execution_count": 53,
   "metadata": {},
   "outputs": [
    {
     "data": {
      "text/plain": [
       "(49, 2)"
      ]
     },
     "execution_count": 53,
     "metadata": {},
     "output_type": "execute_result"
    }
   ],
   "source": [
    "S = []\n",
    "for i in range(0, 7):\n",
    "    for j in range(0,7):\n",
    "        S.append([i,j])\n",
    "S = np.array(S)\n",
    "S.shape"
   ]
  },
  {
   "cell_type": "code",
   "execution_count": 54,
   "metadata": {},
   "outputs": [
    {
     "data": {
      "text/plain": [
       "array([[0, 0],\n",
       "       [0, 1],\n",
       "       [0, 2],\n",
       "       [0, 3],\n",
       "       [0, 4],\n",
       "       [0, 5],\n",
       "       [0, 6],\n",
       "       [1, 0],\n",
       "       [1, 1],\n",
       "       [1, 2],\n",
       "       [1, 3],\n",
       "       [1, 4],\n",
       "       [1, 5],\n",
       "       [1, 6],\n",
       "       [2, 0],\n",
       "       [2, 1],\n",
       "       [2, 2],\n",
       "       [2, 3],\n",
       "       [2, 4],\n",
       "       [2, 5],\n",
       "       [2, 6],\n",
       "       [3, 0],\n",
       "       [3, 1],\n",
       "       [3, 2],\n",
       "       [3, 3],\n",
       "       [3, 4],\n",
       "       [3, 5],\n",
       "       [3, 6],\n",
       "       [4, 0],\n",
       "       [4, 1],\n",
       "       [4, 2],\n",
       "       [4, 3],\n",
       "       [4, 4],\n",
       "       [4, 5],\n",
       "       [4, 6],\n",
       "       [5, 0],\n",
       "       [5, 1],\n",
       "       [5, 2],\n",
       "       [5, 3],\n",
       "       [5, 4],\n",
       "       [5, 5],\n",
       "       [5, 6],\n",
       "       [6, 0],\n",
       "       [6, 1],\n",
       "       [6, 2],\n",
       "       [6, 3],\n",
       "       [6, 4],\n",
       "       [6, 5],\n",
       "       [6, 6]])"
      ]
     },
     "execution_count": 54,
     "metadata": {},
     "output_type": "execute_result"
    }
   ],
   "source": [
    "S"
   ]
  },
  {
   "cell_type": "code",
   "execution_count": 46,
   "metadata": {},
   "outputs": [],
   "source": [
    "V_s = np.hstack((np.random.random(48), np.zeros(1)))"
   ]
  },
  {
   "cell_type": "code",
   "execution_count": 58,
   "metadata": {},
   "outputs": [],
   "source": [
    "V = V_s\n",
    "V = V.reshape((7,7))"
   ]
  },
  {
   "cell_type": "code",
   "execution_count": 89,
   "metadata": {},
   "outputs": [
    {
     "name": "stderr",
     "output_type": "stream",
     "text": [
      "C:\\Users\\Sushi\\AppData\\Local\\Temp\\ipykernel_12696\\1157966258.py:10: VisibleDeprecationWarning: Creating an ndarray from ragged nested sequences (which is a list-or-tuple of lists-or-tuples-or ndarrays with different lengths or shapes) is deprecated. If you meant to do this, you must specify 'dtype=object' when creating the ndarray.\n",
      "  probs = np.array(a.transition_prob(state = np.hstack((s, np.array([3]))), action = act, wind_field=WindField))[:,1]\n",
      "C:\\Users\\Sushi\\AppData\\Local\\Temp\\ipykernel_12696\\1157966258.py:11: VisibleDeprecationWarning: Creating an ndarray from ragged nested sequences (which is a list-or-tuple of lists-or-tuples-or ndarrays with different lengths or shapes) is deprecated. If you meant to do this, you must specify 'dtype=object' when creating the ndarray.\n",
      "  next_s = np.array(a.transition_prob(state = np.hstack((s, np.array([3]))), action = act, wind_field=WindField))[:,0]\n",
      "C:\\Users\\Sushi\\AppData\\Local\\Temp\\ipykernel_12696\\1157966258.py:16: VisibleDeprecationWarning: Creating an ndarray from ragged nested sequences (which is a list-or-tuple of lists-or-tuples-or ndarrays with different lengths or shapes) is deprecated. If you meant to do this, you must specify 'dtype=object' when creating the ndarray.\n",
      "  delta = np.array([delta, abs(v - V[s[0],s[1]])])\n"
     ]
    },
    {
     "ename": "IndexError",
     "evalue": "index 7 is out of bounds for axis 1 with size 7",
     "output_type": "error",
     "traceback": [
      "\u001b[1;31m---------------------------------------------------------------------------\u001b[0m",
      "\u001b[1;31mIndexError\u001b[0m                                Traceback (most recent call last)",
      "\u001b[1;32mc:\\Users\\Sushi\\Documents\\Python Scripts\\Wind-Energy based Path Planning For Electric Unmanned Aerial Vehicles Using Markov Decision Processes\\main.ipynb Cell 11'\u001b[0m in \u001b[0;36m<cell line: 4>\u001b[1;34m()\u001b[0m\n\u001b[0;32m     <a href='vscode-notebook-cell:/c%3A/Users/Sushi/Documents/Python%20Scripts/Wind-Energy%20based%20Path%20Planning%20For%20Electric%20Unmanned%20Aerial%20Vehicles%20Using%20Markov%20Decision%20Processes/main.ipynb#ch0000007?line=9'>10</a>\u001b[0m probs \u001b[39m=\u001b[39m np\u001b[39m.\u001b[39marray(a\u001b[39m.\u001b[39mtransition_prob(state \u001b[39m=\u001b[39m np\u001b[39m.\u001b[39mhstack((s, np\u001b[39m.\u001b[39marray([\u001b[39m3\u001b[39m]))), action \u001b[39m=\u001b[39m act, wind_field\u001b[39m=\u001b[39mWindField))[:,\u001b[39m1\u001b[39m]\n\u001b[0;32m     <a href='vscode-notebook-cell:/c%3A/Users/Sushi/Documents/Python%20Scripts/Wind-Energy%20based%20Path%20Planning%20For%20Electric%20Unmanned%20Aerial%20Vehicles%20Using%20Markov%20Decision%20Processes/main.ipynb#ch0000007?line=10'>11</a>\u001b[0m next_s \u001b[39m=\u001b[39m np\u001b[39m.\u001b[39marray(a\u001b[39m.\u001b[39mtransition_prob(state \u001b[39m=\u001b[39m np\u001b[39m.\u001b[39mhstack((s, np\u001b[39m.\u001b[39marray([\u001b[39m3\u001b[39m]))), action \u001b[39m=\u001b[39m act, wind_field\u001b[39m=\u001b[39mWindField))[:,\u001b[39m0\u001b[39m]  \n\u001b[1;32m---> <a href='vscode-notebook-cell:/c%3A/Users/Sushi/Documents/Python%20Scripts/Wind-Energy%20based%20Path%20Planning%20For%20Electric%20Unmanned%20Aerial%20Vehicles%20Using%20Markov%20Decision%20Processes/main.ipynb#ch0000007?line=11'>12</a>\u001b[0m reward \u001b[39m=\u001b[39m np\u001b[39m.\u001b[39marray([a\u001b[39m.\u001b[39mreward(state \u001b[39m=\u001b[39m sd, windfield\u001b[39m=\u001b[39mWindField) \u001b[39mfor\u001b[39;00m sd \u001b[39min\u001b[39;00m next_s])\n\u001b[0;32m     <a href='vscode-notebook-cell:/c%3A/Users/Sushi/Documents/Python%20Scripts/Wind-Energy%20based%20Path%20Planning%20For%20Electric%20Unmanned%20Aerial%20Vehicles%20Using%20Markov%20Decision%20Processes/main.ipynb#ch0000007?line=12'>13</a>\u001b[0m temp \u001b[39m=\u001b[39m (probs\u001b[39m*\u001b[39mreward)\u001b[39m.\u001b[39msum()\n\u001b[0;32m     <a href='vscode-notebook-cell:/c%3A/Users/Sushi/Documents/Python%20Scripts/Wind-Energy%20based%20Path%20Planning%20For%20Electric%20Unmanned%20Aerial%20Vehicles%20Using%20Markov%20Decision%20Processes/main.ipynb#ch0000007?line=13'>14</a>\u001b[0m V_max \u001b[39m=\u001b[39m np\u001b[39m.\u001b[39marray([temp, V_max])\u001b[39m.\u001b[39mmax()\n",
      "\u001b[1;32mc:\\Users\\Sushi\\Documents\\Python Scripts\\Wind-Energy based Path Planning For Electric Unmanned Aerial Vehicles Using Markov Decision Processes\\main.ipynb Cell 11'\u001b[0m in \u001b[0;36m<listcomp>\u001b[1;34m(.0)\u001b[0m\n\u001b[0;32m     <a href='vscode-notebook-cell:/c%3A/Users/Sushi/Documents/Python%20Scripts/Wind-Energy%20based%20Path%20Planning%20For%20Electric%20Unmanned%20Aerial%20Vehicles%20Using%20Markov%20Decision%20Processes/main.ipynb#ch0000007?line=9'>10</a>\u001b[0m probs \u001b[39m=\u001b[39m np\u001b[39m.\u001b[39marray(a\u001b[39m.\u001b[39mtransition_prob(state \u001b[39m=\u001b[39m np\u001b[39m.\u001b[39mhstack((s, np\u001b[39m.\u001b[39marray([\u001b[39m3\u001b[39m]))), action \u001b[39m=\u001b[39m act, wind_field\u001b[39m=\u001b[39mWindField))[:,\u001b[39m1\u001b[39m]\n\u001b[0;32m     <a href='vscode-notebook-cell:/c%3A/Users/Sushi/Documents/Python%20Scripts/Wind-Energy%20based%20Path%20Planning%20For%20Electric%20Unmanned%20Aerial%20Vehicles%20Using%20Markov%20Decision%20Processes/main.ipynb#ch0000007?line=10'>11</a>\u001b[0m next_s \u001b[39m=\u001b[39m np\u001b[39m.\u001b[39marray(a\u001b[39m.\u001b[39mtransition_prob(state \u001b[39m=\u001b[39m np\u001b[39m.\u001b[39mhstack((s, np\u001b[39m.\u001b[39marray([\u001b[39m3\u001b[39m]))), action \u001b[39m=\u001b[39m act, wind_field\u001b[39m=\u001b[39mWindField))[:,\u001b[39m0\u001b[39m]  \n\u001b[1;32m---> <a href='vscode-notebook-cell:/c%3A/Users/Sushi/Documents/Python%20Scripts/Wind-Energy%20based%20Path%20Planning%20For%20Electric%20Unmanned%20Aerial%20Vehicles%20Using%20Markov%20Decision%20Processes/main.ipynb#ch0000007?line=11'>12</a>\u001b[0m reward \u001b[39m=\u001b[39m np\u001b[39m.\u001b[39marray([a\u001b[39m.\u001b[39;49mreward(state \u001b[39m=\u001b[39;49m sd, windfield\u001b[39m=\u001b[39;49mWindField) \u001b[39mfor\u001b[39;00m sd \u001b[39min\u001b[39;00m next_s])\n\u001b[0;32m     <a href='vscode-notebook-cell:/c%3A/Users/Sushi/Documents/Python%20Scripts/Wind-Energy%20based%20Path%20Planning%20For%20Electric%20Unmanned%20Aerial%20Vehicles%20Using%20Markov%20Decision%20Processes/main.ipynb#ch0000007?line=12'>13</a>\u001b[0m temp \u001b[39m=\u001b[39m (probs\u001b[39m*\u001b[39mreward)\u001b[39m.\u001b[39msum()\n\u001b[0;32m     <a href='vscode-notebook-cell:/c%3A/Users/Sushi/Documents/Python%20Scripts/Wind-Energy%20based%20Path%20Planning%20For%20Electric%20Unmanned%20Aerial%20Vehicles%20Using%20Markov%20Decision%20Processes/main.ipynb#ch0000007?line=13'>14</a>\u001b[0m V_max \u001b[39m=\u001b[39m np\u001b[39m.\u001b[39marray([temp, V_max])\u001b[39m.\u001b[39mmax()\n",
      "File \u001b[1;32mc:\\Users\\Sushi\\Documents\\Python Scripts\\Wind-Energy based Path Planning For Electric Unmanned Aerial Vehicles Using Markov Decision Processes\\Windfield_Env.py:119\u001b[0m, in \u001b[0;36mWindField.reward\u001b[1;34m(self, state, windfield, c, w_max)\u001b[0m\n\u001b[0;32m    <a href='file:///c%3A/Users/Sushi/Documents/Python%20Scripts/Wind-Energy%20based%20Path%20Planning%20For%20Electric%20Unmanned%20Aerial%20Vehicles%20Using%20Markov%20Decision%20Processes/Windfield_Env.py?line=116'>117</a>\u001b[0m \u001b[39mdef\u001b[39;00m \u001b[39mreward\u001b[39m(\u001b[39mself\u001b[39m,state,windfield,c\u001b[39m=\u001b[39m\u001b[39m10\u001b[39m,w_max\u001b[39m=\u001b[39m\u001b[39m15\u001b[39m):\n\u001b[1;32m--> <a href='file:///c%3A/Users/Sushi/Documents/Python%20Scripts/Wind-Energy%20based%20Path%20Planning%20For%20Electric%20Unmanned%20Aerial%20Vehicles%20Using%20Markov%20Decision%20Processes/Windfield_Env.py?line=118'>119</a>\u001b[0m     [u,v]\u001b[39m=\u001b[39mwindfield[state[\u001b[39m0\u001b[39;49m],state[\u001b[39m1\u001b[39;49m]]\n\u001b[0;32m    <a href='file:///c%3A/Users/Sushi/Documents/Python%20Scripts/Wind-Energy%20based%20Path%20Planning%20For%20Electric%20Unmanned%20Aerial%20Vehicles%20Using%20Markov%20Decision%20Processes/Windfield_Env.py?line=119'>120</a>\u001b[0m     \u001b[39mif\u001b[39;00m u \u001b[39m!=\u001b[39m\u001b[39m0\u001b[39m \u001b[39mand\u001b[39;00m \u001b[39mself\u001b[39m\u001b[39m.\u001b[39msize\u001b[39m-\u001b[39m\u001b[39m1\u001b[39m\u001b[39m-\u001b[39mstate[\u001b[39m0\u001b[39m] \u001b[39m!=\u001b[39m \u001b[39m0\u001b[39m:\n\u001b[0;32m    <a href='file:///c%3A/Users/Sushi/Documents/Python%20Scripts/Wind-Energy%20based%20Path%20Planning%20For%20Electric%20Unmanned%20Aerial%20Vehicles%20Using%20Markov%20Decision%20Processes/Windfield_Env.py?line=120'>121</a>\u001b[0m         reward\u001b[39m=\u001b[39mc\u001b[39m*\u001b[39m(np\u001b[39m.\u001b[39msqrt(u\u001b[39m*\u001b[39m\u001b[39m*\u001b[39m\u001b[39m2\u001b[39m\u001b[39m+\u001b[39mv\u001b[39m*\u001b[39m\u001b[39m*\u001b[39m\u001b[39m2\u001b[39m)\u001b[39m*\u001b[39mnp\u001b[39m.\u001b[39mcos(np\u001b[39m.\u001b[39marctan(v\u001b[39m/\u001b[39mu)\u001b[39m+\u001b[39mnp\u001b[39m.\u001b[39marctan((\u001b[39mself\u001b[39m\u001b[39m.\u001b[39msize\u001b[39m-\u001b[39m\u001b[39m1\u001b[39m\u001b[39m-\u001b[39mstate[\u001b[39m1\u001b[39m])\u001b[39m/\u001b[39m(\u001b[39mself\u001b[39m\u001b[39m.\u001b[39msize\u001b[39m-\u001b[39m\u001b[39m1\u001b[39m\u001b[39m-\u001b[39mstate[\u001b[39m0\u001b[39m]))))\n",
      "\u001b[1;31mIndexError\u001b[0m: index 7 is out of bounds for axis 1 with size 7"
     ]
    }
   ],
   "source": [
    "theta = 0.01\n",
    "delta = 100000\n",
    "actions = list(a.change_coordinates.keys())\n",
    "while delta >= theta:\n",
    "    delta = 0\n",
    "    for s in S:\n",
    "        v = V[s[0], s[1]]\n",
    "        V_max = -1000\n",
    "        for act in actions:\n",
    "            probs = np.array(a.transition_prob(state = np.hstack((s, np.array([3]))), action = act, wind_field=WindField))[:,1]\n",
    "            next_s = np.array(a.transition_prob(state = np.hstack((s, np.array([3]))), action = act, wind_field=WindField))[:,0]  \n",
    "            reward = np.array([a.reward(state = sd, windfield=WindField) for sd in next_s])\n",
    "            temp = (probs*reward).sum()\n",
    "            V_max = np.array([temp, V_max]).max()\n",
    "        V[s[0],s[1]] = V_max\n",
    "        delta = np.array([delta, abs(v - V[s[0],s[1]])])"
   ]
  },
  {
   "cell_type": "code",
   "execution_count": 44,
   "metadata": {},
   "outputs": [
    {
     "data": {
      "text/plain": [
       "(7, 7, 2)"
      ]
     },
     "execution_count": 44,
     "metadata": {},
     "output_type": "execute_result"
    }
   ],
   "source": [
    "S.shape"
   ]
  },
  {
   "cell_type": "code",
   "execution_count": 29,
   "metadata": {},
   "outputs": [],
   "source": [
    "[1,1].append(1)"
   ]
  },
  {
   "cell_type": "code",
   "execution_count": 34,
   "metadata": {},
   "outputs": [
    {
     "data": {
      "text/plain": [
       "0.8390790719854698"
      ]
     },
     "execution_count": 34,
     "metadata": {},
     "output_type": "execute_result"
    }
   ],
   "source": [
    "V[0][0]"
   ]
  },
  {
   "cell_type": "code",
   "execution_count": 86,
   "metadata": {},
   "outputs": [
    {
     "data": {
      "text/plain": [
       "array([6, 2])"
      ]
     },
     "execution_count": 86,
     "metadata": {},
     "output_type": "execute_result"
    }
   ],
   "source": [
    "np.array([3,1])*np.array([2,2])"
   ]
  }
 ],
 "metadata": {
  "interpreter": {
   "hash": "20855dc0302f87469312b0ea7950e902ead8c84bd489c9184677904f754e756b"
  },
  "kernelspec": {
   "display_name": "Python 3.10.1 64-bit",
   "language": "python",
   "name": "python3"
  },
  "language_info": {
   "codemirror_mode": {
    "name": "ipython",
    "version": 3
   },
   "file_extension": ".py",
   "mimetype": "text/x-python",
   "name": "python",
   "nbconvert_exporter": "python",
   "pygments_lexer": "ipython3",
   "version": "3.10.1"
  },
  "orig_nbformat": 4
 },
 "nbformat": 4,
 "nbformat_minor": 2
}
